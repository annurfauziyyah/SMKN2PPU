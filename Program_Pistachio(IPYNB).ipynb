{
  "metadata": {
    "kernelspec": {
      "language": "python",
      "display_name": "Python 3",
      "name": "python3"
    },
    "language_info": {
      "name": "python",
      "version": "3.10.13",
      "mimetype": "text/x-python",
      "codemirror_mode": {
        "name": "ipython",
        "version": 3
      },
      "pygments_lexer": "ipython3",
      "nbconvert_exporter": "python",
      "file_extension": ".py"
    },
    "kaggle": {
      "accelerator": "none",
      "dataSources": [
        {
          "sourceId": 3372753,
          "sourceType": "datasetVersion",
          "datasetId": 2033813
        }
      ],
      "dockerImageVersionId": 30664,
      "isInternetEnabled": true,
      "language": "python",
      "sourceType": "notebook",
      "isGpuEnabled": false
    },
    "colab": {
      "provenance": [],
      "include_colab_link": true
    }
  },
  "nbformat_minor": 0,
  "nbformat": 4,
  "cells": [
    {
      "cell_type": "markdown",
      "metadata": {
        "id": "view-in-github",
        "colab_type": "text"
      },
      "source": [
        "<a href=\"https://colab.research.google.com/github/annurfauziyyah/SMKN2PPU/blob/master/Program_Pistachio(IPYNB).ipynb\" target=\"_parent\"><img src=\"https://colab.research.google.com/assets/colab-badge.svg\" alt=\"Open In Colab\"/></a>"
      ]
    },
    {
      "cell_type": "code",
      "source": [
        "# This Python 3 environment comes with many helpful analytics libraries installed\n",
        "# It is defined by the kaggle/python Docker image: https://github.com/kaggle/docker-python\n",
        "# For example, here's several helpful packages to load\n",
        "\n",
        "import numpy as np # linear algebra\n",
        "import pandas as pd # data processing, CSV file I/O (e.g. pd.read_csv)\n",
        "\n",
        "# Input data files are available in the read-only \"../input/\" directory\n",
        "# For example, running this (by clicking run or pressing Shift+Enter) will list all files under the input directory\n",
        "\n",
        "import os\n",
        "for dirname, _, filenames in os.walk('/kaggle/input'):\n",
        "    for filename in filenames:\n",
        "        print(os.path.join(dirname, filename))\n",
        "\n",
        "# You can write up to 20GB to the current directory (/kaggle/working/) that gets preserved as output when you create a version using \"Save & Run All\"\n",
        "# You can also write temporary files to /kaggle/temp/, but they won't be saved outside of the current session"
      ],
      "metadata": {
        "_uuid": "8f2839f25d086af736a60e9eeb907d3b93b6e0e5",
        "_cell_guid": "b1076dfc-b9ad-4769-8c92-a6c4dae69d19",
        "execution": {
          "iopub.status.busy": "2024-03-24T11:53:54.927140Z",
          "iopub.execute_input": "2024-03-24T11:53:54.927526Z",
          "iopub.status.idle": "2024-03-24T11:53:56.901569Z",
          "shell.execute_reply.started": "2024-03-24T11:53:54.927498Z",
          "shell.execute_reply": "2024-03-24T11:53:56.900547Z"
        },
        "trusted": true,
        "id": "Uba-Xh6xG-J8"
      },
      "execution_count": null,
      "outputs": []
    },
    {
      "cell_type": "code",
      "source": [
        "import os\n",
        "import numpy as np\n",
        "import tensorflow as tf\n",
        "from tensorflow.keras.preprocessing.image import load_img, img_to_array\n",
        "from sklearn.model_selection import train_test_split\n",
        "\n",
        "# Fungsi untuk memuat dataset citra dari folder\n",
        "def load_images_from_folder(folder, target_size=(100, 100)):\n",
        "    images = []\n",
        "    labels = []\n",
        "    for filename in os.listdir(folder):\n",
        "        img_path = os.path.join(folder, filename)\n",
        "        img = load_img(img_path, target_size=target_size)  # Sesuaikan dengan ukuran citra yang diinginkan\n",
        "        img_array = img_to_array(img)\n",
        "        images.append(img_array)\n",
        "        labels.append(folder.split('/')[-1])  # Menggunakan nama folder sebagai label\n",
        "    return images, labels\n",
        "\n",
        "# Path ke folder 'Kirmizi_Pistachio' dan 'Siirt_Pistachio'\n",
        "Kirmizi_Pistachio_folder = '/kaggle/input/pistachio-image-dataset/Pistachio_Image_Dataset/Pistachio_Image_Dataset/Kirmizi_Pistachio'\n",
        "Siirt_Pistachio_folder = '/kaggle/input/pistachio-image-dataset/Pistachio_Image_Dataset/Pistachio_Image_Dataset/Siirt_Pistachio'\n",
        "\n",
        "# Memuat citra dan label dari folder 'Kirmizi_Pistachio'\n",
        "Kirmizi_Pistachio_images, Kirmizi_Pistachio_labels = load_images_from_folder(Kirmizi_Pistachio_folder, target_size=(100, 100))\n",
        "\n",
        "# Memuat citra dan label dari folder 'Siirt_Pistachio'\n",
        "Siirt_Pistachio_images, Siirt_Pistachio_labels = load_images_from_folder(Siirt_Pistachio_folder, target_size=(100, 100))\n",
        "\n",
        "# Menggabungkan citra dan label dari kedua kelas\n",
        "x_data = np.array(Kirmizi_Pistachio_images + Siirt_Pistachio_images)\n",
        "y_labels = np.array(Kirmizi_Pistachio_labels + Siirt_Pistachio_labels)\n",
        "\n",
        "# Normalisasi citra\n",
        "x_data = x_data.astype('float32') / 255.\n",
        "\n",
        "# Memecah dataset menjadi data latih dan data uji\n",
        "x_train, x_test, y_train, y_test = train_test_split(x_data, y_labels, test_size=0.2, random_state=42)\n",
        "\n",
        "print(x_train.shape)\n",
        "print(x_test.shape)"
      ],
      "metadata": {
        "execution": {
          "iopub.status.busy": "2024-03-24T12:00:44.019371Z",
          "iopub.execute_input": "2024-03-24T12:00:44.020566Z",
          "iopub.status.idle": "2024-03-24T12:00:50.307658Z",
          "shell.execute_reply.started": "2024-03-24T12:00:44.020518Z",
          "shell.execute_reply": "2024-03-24T12:00:50.306473Z"
        },
        "trusted": true,
        "id": "I9QV7HyiG-J-"
      },
      "execution_count": null,
      "outputs": []
    },
    {
      "cell_type": "code",
      "source": [
        "class Autoencoder(tf.keras.Model):\n",
        "    def __init__(self, latent_dim):\n",
        "        super(Autoencoder, self).__init__()\n",
        "        self.latent_dim = latent_dim\n",
        "        self.encoder = tf.keras.Sequential([\n",
        "            tf.keras.layers.Flatten(),\n",
        "            tf.keras.layers.Dense(latent_dim, activation='relu'),\n",
        "        ])\n",
        "        self.decoder = tf.keras.Sequential([\n",
        "            tf.keras.layers.Dense(100*100*3, activation='sigmoid'),\n",
        "            tf.keras.layers.Reshape((100, 100, 3))\n",
        "        ])\n",
        "\n",
        "    def call(self, x):\n",
        "        encoded = self.encoder(x)\n",
        "        decoded = self.decoder(encoded)\n",
        "        return decoded\n"
      ],
      "metadata": {
        "trusted": true,
        "id": "iU17CzbCG-J_"
      },
      "execution_count": null,
      "outputs": []
    },
    {
      "cell_type": "code",
      "source": [
        "# Fungsi untuk memuat dataset citra dari folder\n",
        "def load_images_from_folder(folder, target_size=(100, 100)):\n",
        "    images = []\n",
        "    labels = []\n",
        "    for filename in os.listdir(folder):\n",
        "        img_path = os.path.join(folder, filename)\n",
        "        img = load_img(img_path, target_size=target_size)  # Sesuaikan dengan ukuran citra yang diinginkan\n",
        "        img_array = img_to_array(img)\n",
        "        images.append(img_array)\n",
        "        labels.append(folder.split('/')[-1])  # Menggunakan nama folder sebagai label\n",
        "    return images, labels\n",
        "\n",
        "# Path ke folder 'Kirmizi_Pistachio' dan 'Siirt_Pistachio'\n",
        "Kirmizi_Pistachio_folder = '/kaggle/input/pistachio-image-dataset/Pistachio_Image_Dataset/Pistachio_Image_Dataset/Kirmizi_Pistachio'\n",
        "Siirt_Pistachio_folder = '/kaggle/input/pistachio-image-dataset/Pistachio_Image_Dataset/Pistachio_Image_Dataset/Siirt_Pistachio'\n",
        "\n",
        "# Memuat citra dan label dari folder 'Kirmizi_Pistachio'\n",
        "Kirmizi_Pistachio_images, Kirmizi_Pistachio_labels = load_images_from_folder(Kirmizi_Pistachio_folder, target_size=(100, 100))\n",
        "\n",
        "# Memuat citra dan label dari folder 'Siirt_Pistachio'\n",
        "Siirt_Pistachio_images, Siirt_Pistachio_labels = load_images_from_folder(Siirt_Pistachio_folder, target_size=(100, 100))\n",
        "\n",
        "# Menggabungkan citra dan label dari kedua kelas\n",
        "x_data = np.array(Kirmizi_Pistachio_images + Siirt_Pistachio_images)\n",
        "\n",
        "# Normalisasi citra\n",
        "x_data = x_data.astype('float32') / 255.\n",
        "\n",
        "# Memecah dataset menjadi data latih dan data uji\n",
        "x_train, x_test = train_test_split(x_data, test_size=0.2, random_state=42)\n",
        "\n",
        "# Inisialisasi model autoencoder\n",
        "latent_dim = 64\n",
        "autoencoder = Autoencoder(latent_dim)\n",
        "\n",
        "# Kompilasi model\n",
        "autoencoder.compile(optimizer='adam', loss=tf.keras.losses.MeanSquaredError())\n",
        "\n",
        "# Melatih model\n",
        "autoencoder.fit(x_train, x_train,\n",
        "                epochs=10,\n",
        "                shuffle=True,\n",
        "                validation_data=(x_test, x_test))"
      ],
      "metadata": {
        "execution": {
          "iopub.status.busy": "2024-03-24T12:03:34.973242Z",
          "iopub.execute_input": "2024-03-24T12:03:34.973680Z",
          "iopub.status.idle": "2024-03-24T12:04:08.652691Z",
          "shell.execute_reply.started": "2024-03-24T12:03:34.973644Z",
          "shell.execute_reply": "2024-03-24T12:04:08.651249Z"
        },
        "trusted": true,
        "id": "Gj0uYUrPG-KA"
      },
      "execution_count": null,
      "outputs": []
    },
    {
      "cell_type": "code",
      "source": [
        "# Menghasilkan citra terenkripsi dan citra rekonstruksi\n",
        "encoded_imgs = autoencoder.encoder(x_test).numpy()\n",
        "decoded_imgs = autoencoder.decoder(encoded_imgs).numpy()"
      ],
      "metadata": {
        "execution": {
          "iopub.status.busy": "2024-03-24T12:04:39.891695Z",
          "iopub.execute_input": "2024-03-24T12:04:39.892539Z",
          "iopub.status.idle": "2024-03-24T12:04:40.131779Z",
          "shell.execute_reply.started": "2024-03-24T12:04:39.892489Z",
          "shell.execute_reply": "2024-03-24T12:04:40.130295Z"
        },
        "trusted": true,
        "id": "Vb_xa7M5G-KA"
      },
      "execution_count": null,
      "outputs": []
    },
    {
      "cell_type": "code",
      "source": [
        "import matplotlib.pyplot as plt\n",
        "\n",
        "n = 10\n",
        "plt.figure(figsize=(20, 4))\n",
        "for i in range(n):\n",
        "    # Tampilkan citra asli\n",
        "    ax = plt.subplot(2, n, i + 1)\n",
        "    plt.imshow(x_test[i])\n",
        "    plt.title(\"Original\")\n",
        "    plt.gray()\n",
        "    ax.get_xaxis().set_visible(False)\n",
        "    ax.get_yaxis().set_visible(False)\n",
        "\n",
        "    # Tampilkan citra rekonstruksi\n",
        "    ax = plt.subplot(2, n, i + 1 + n)\n",
        "    plt.imshow(decoded_imgs[i])\n",
        "    plt.title(\"Reconstructed\")\n",
        "    plt.gray()\n",
        "    ax.get_xaxis().set_visible(False)\n",
        "    ax.get_yaxis().set_visible(False)\n",
        "plt.show()"
      ],
      "metadata": {
        "execution": {
          "iopub.status.busy": "2024-03-24T12:04:44.102858Z",
          "iopub.execute_input": "2024-03-24T12:04:44.103750Z",
          "iopub.status.idle": "2024-03-24T12:04:44.944926Z",
          "shell.execute_reply.started": "2024-03-24T12:04:44.103702Z",
          "shell.execute_reply": "2024-03-24T12:04:44.943636Z"
        },
        "trusted": true,
        "id": "i-qwCkTSG-KB"
      },
      "execution_count": null,
      "outputs": []
    },
    {
      "cell_type": "code",
      "source": [
        "# Menggabungkan citra dari kedua kelas (tanpa label)\n",
        "x_data = np.array(Kirmizi_Pistachio_images + Siirt_Pistachio_images)\n",
        "\n",
        "# Normalisasi citra\n",
        "x_data = x_data.astype('float32') / 255.\n",
        "\n",
        "# Memecah dataset menjadi data latih dan data uji\n",
        "x_train, x_test = train_test_split(x_data, test_size=0.2, random_state=42)\n",
        "\n",
        "# Menambahkan dimensi tambahan untuk channel\n",
        "x_train = x_train[..., tf.newaxis]\n",
        "x_test = x_test[..., tf.newaxis]\n",
        "\n",
        "print(x_train.shape)"
      ],
      "metadata": {
        "execution": {
          "iopub.status.busy": "2024-03-24T12:14:27.708950Z",
          "iopub.execute_input": "2024-03-24T12:14:27.709465Z",
          "iopub.status.idle": "2024-03-24T12:14:28.084622Z",
          "shell.execute_reply.started": "2024-03-24T12:14:27.709426Z",
          "shell.execute_reply": "2024-03-24T12:14:28.083409Z"
        },
        "trusted": true,
        "id": "of9wafaNG-KB"
      },
      "execution_count": null,
      "outputs": []
    },
    {
      "cell_type": "code",
      "source": [
        "# Menambahkan noise acak\n",
        "noise_factor = 0.2\n",
        "x_train_noisy = x_train + noise_factor * tf.random.normal(shape=x_train.shape)\n",
        "x_test_noisy = x_test + noise_factor * tf.random.normal(shape=x_test.shape)\n",
        "\n",
        "# Memastikan nilai piksel tetap di dalam rentang 0-1\n",
        "x_train_noisy = tf.clip_by_value(x_train_noisy, clip_value_min=0., clip_value_max=1.)\n",
        "x_test_noisy = tf.clip_by_value(x_test_noisy, clip_value_min=0., clip_value_max=1.)"
      ],
      "metadata": {
        "execution": {
          "iopub.status.busy": "2024-03-24T12:14:37.095211Z",
          "iopub.execute_input": "2024-03-24T12:14:37.095663Z",
          "iopub.status.idle": "2024-03-24T12:14:38.565164Z",
          "shell.execute_reply.started": "2024-03-24T12:14:37.095627Z",
          "shell.execute_reply": "2024-03-24T12:14:38.564113Z"
        },
        "trusted": true,
        "id": "C2VdJ2qJG-KB"
      },
      "execution_count": null,
      "outputs": []
    },
    {
      "cell_type": "code",
      "source": [
        "import matplotlib.pyplot as plt\n",
        "\n",
        "n = 10\n",
        "plt.figure(figsize=(20, 2))\n",
        "for i in range(n):\n",
        "    ax = plt.subplot(1, n, i + 1)\n",
        "    plt.title(\"Original + Noise\")\n",
        "    plt.imshow(tf.squeeze(x_test_noisy[i]))\n",
        "    plt.gray()\n",
        "    plt.axis('off')\n",
        "plt.show()"
      ],
      "metadata": {
        "execution": {
          "iopub.status.busy": "2024-03-24T12:15:13.806494Z",
          "iopub.execute_input": "2024-03-24T12:15:13.806989Z",
          "iopub.status.idle": "2024-03-24T12:15:14.618561Z",
          "shell.execute_reply.started": "2024-03-24T12:15:13.806950Z",
          "shell.execute_reply": "2024-03-24T12:15:14.617606Z"
        },
        "trusted": true,
        "id": "32aPP4QKG-KC"
      },
      "execution_count": null,
      "outputs": []
    },
    {
      "cell_type": "code",
      "source": [
        "from tensorflow.keras import layers, Model\n",
        "\n",
        "# Define the Denoise class\n",
        "class Denoise(Model):\n",
        "    def __init__(self):\n",
        "        super(Denoise, self).__init__()\n",
        "        self.encoder = tf.keras.Sequential([\n",
        "            layers.Input(shape=(100, 100, 3)),  # Update with the size of your images\n",
        "            layers.Conv2D(16, (3, 3), activation='relu', padding='same', strides=2),\n",
        "            layers.Conv2D(8, (3, 3), activation='relu', padding='same', strides=2)])\n",
        "\n",
        "        self.decoder = tf.keras.Sequential([\n",
        "            layers.Conv2DTranspose(8, kernel_size=3, strides=2, activation='relu', padding='same'),\n",
        "            layers.Conv2DTranspose(16, kernel_size=3, strides=2, activation='relu', padding='same'),\n",
        "            layers.Conv2D(3, kernel_size=(3, 3), activation='sigmoid', padding='same')])  # Update with the number of color channels in your dataset\n",
        "\n",
        "    def call(self, x):\n",
        "        encoded = self.encoder(x)\n",
        "        decoded = self.decoder(encoded)\n",
        "        return decoded\n",
        "\n",
        "# Initialize the autoencoder model\n",
        "autoencoder = Denoise()\n",
        "\n",
        "# Compile the autoencoder model\n",
        "autoencoder.compile(optimizer='adam', loss='mse')\n",
        "\n",
        "# Train the autoencoder model\n",
        "autoencoder.fit(x_train_noisy, x_train,\n",
        "                epochs=10,\n",
        "                shuffle=True,\n",
        "                validation_data=(x_test_noisy, x_test))"
      ],
      "metadata": {
        "execution": {
          "iopub.status.busy": "2024-03-24T12:15:29.674861Z",
          "iopub.execute_input": "2024-03-24T12:15:29.675789Z",
          "iopub.status.idle": "2024-03-24T12:18:38.540439Z",
          "shell.execute_reply.started": "2024-03-24T12:15:29.675749Z",
          "shell.execute_reply": "2024-03-24T12:18:38.539027Z"
        },
        "trusted": true,
        "id": "7BBye6XvG-KC"
      },
      "execution_count": null,
      "outputs": []
    },
    {
      "cell_type": "code",
      "source": [
        "autoencoder.encoder.summary()"
      ],
      "metadata": {
        "execution": {
          "iopub.status.busy": "2024-03-24T12:24:34.850855Z",
          "iopub.execute_input": "2024-03-24T12:24:34.851288Z",
          "iopub.status.idle": "2024-03-24T12:24:34.875803Z",
          "shell.execute_reply.started": "2024-03-24T12:24:34.851248Z",
          "shell.execute_reply": "2024-03-24T12:24:34.874586Z"
        },
        "trusted": true,
        "id": "BM33KHv-G-KD"
      },
      "execution_count": null,
      "outputs": []
    },
    {
      "cell_type": "code",
      "source": [
        "autoencoder.decoder.summary()"
      ],
      "metadata": {
        "execution": {
          "iopub.status.busy": "2024-03-24T12:24:39.526486Z",
          "iopub.execute_input": "2024-03-24T12:24:39.526954Z",
          "iopub.status.idle": "2024-03-24T12:24:39.552457Z",
          "shell.execute_reply.started": "2024-03-24T12:24:39.526916Z",
          "shell.execute_reply": "2024-03-24T12:24:39.550701Z"
        },
        "trusted": true,
        "id": "HSAArr7fG-KE"
      },
      "execution_count": null,
      "outputs": []
    },
    {
      "cell_type": "code",
      "source": [
        "import matplotlib.pyplot as plt\n",
        "\n",
        "# Menghitung gambar denoise dari gambar bising\n",
        "encoded_imgs = autoencoder.encoder(x_test_noisy).numpy()\n",
        "decoded_imgs = autoencoder.decoder(encoded_imgs).numpy()"
      ],
      "metadata": {
        "execution": {
          "iopub.status.busy": "2024-03-24T12:24:44.328510Z",
          "iopub.execute_input": "2024-03-24T12:24:44.328971Z",
          "iopub.status.idle": "2024-03-24T12:24:45.345654Z",
          "shell.execute_reply.started": "2024-03-24T12:24:44.328939Z",
          "shell.execute_reply": "2024-03-24T12:24:45.344412Z"
        },
        "trusted": true,
        "id": "lrGtSdO2G-KE"
      },
      "execution_count": null,
      "outputs": []
    },
    {
      "cell_type": "code",
      "source": [
        "# Plot gambar bising dan gambar denoise\n",
        "n = 10\n",
        "plt.figure(figsize=(20, 4))\n",
        "for i in range(n):\n",
        "    # Tampilkan gambar asli + noise\n",
        "    ax = plt.subplot(2, n, i + 1)\n",
        "    plt.title(\"Original + Noise\")\n",
        "    plt.imshow(tf.squeeze(x_test_noisy[i]))\n",
        "    plt.gray()\n",
        "    ax.get_xaxis().set_visible(False)\n",
        "    ax.get_yaxis().set_visible(False)\n",
        "\n",
        "    # Tampilkan gambar denoise\n",
        "    bx = plt.subplot(2, n, i + n + 1)\n",
        "    plt.title(\"Reconstructed\")\n",
        "    plt.imshow(tf.squeeze(decoded_imgs[i]))\n",
        "    plt.gray()\n",
        "    bx.get_xaxis().set_visible(False)\n",
        "    bx.get_yaxis().set_visible(False)\n",
        "plt.show()"
      ],
      "metadata": {
        "execution": {
          "iopub.status.busy": "2024-03-24T12:24:48.945471Z",
          "iopub.execute_input": "2024-03-24T12:24:48.945880Z",
          "iopub.status.idle": "2024-03-24T12:24:49.998512Z",
          "shell.execute_reply.started": "2024-03-24T12:24:48.945846Z",
          "shell.execute_reply": "2024-03-24T12:24:49.997305Z"
        },
        "trusted": true,
        "id": "VAjKcnNzG-KE"
      },
      "execution_count": null,
      "outputs": []
    },
    {
      "cell_type": "code",
      "source": [
        "import numpy as np\n",
        "import matplotlib.pyplot as plt\n",
        "\n",
        "# Fungsi untuk menampilkan gambar\n",
        "def plot_images(original, noisy, denoised, title):\n",
        "    plt.figure(figsize=(20, 4))\n",
        "    for i in range(5):\n",
        "        # Menampilkan gambar asli + noise\n",
        "        ax = plt.subplot(2, n, i + 1)\n",
        "        plt.imshow(tf.squeeze(original[i]), cmap='gray')\n",
        "        plt.title(\"Original + Noise\")\n",
        "        plt.axis(\"off\")\n",
        "\n",
        "        # Menampilkan gambar asli\n",
        "        ax = plt.subplot(2, n, i + n + 1)\n",
        "        plt.imshow(tf.squeeze(denoised[i]), cmap='gray')\n",
        "        plt.title(\"Reconstructed\")\n",
        "        plt.axis(\"off\")\n",
        "\n",
        "    plt.suptitle(title)\n",
        "    plt.show()\n",
        "\n",
        "# Noise factors yang akan diuji\n",
        "noise_factors = [0.1, 0.2, 0.3, 0.4, 0.5]\n",
        "\n",
        "# Fungsi untuk menambahkan Gaussian noise ke gambar\n",
        "def add_noise(images, noise_factor):\n",
        "    noisy_images = images + noise_factor * np.random.normal(loc=0.0, scale=1.0, size=images.shape)\n",
        "    noisy_images = np.clip(noisy_images, 0., 1.)  # Clip nilai pixel ke rentang [0, 1]\n",
        "    return noisy_images\n",
        "\n",
        "# Menampilkan gambar untuk setiap noise factor\n",
        "for noise_factor in noise_factors:\n",
        "    # Menambahkan noise ke data uji\n",
        "    x_test_noisy = add_noise(x_test, noise_factor)\n",
        "\n",
        "    # Mendenoise data uji menggunakan model autoencoder\n",
        "    decoded_imgs = autoencoder.predict(x_test_noisy)\n",
        "\n",
        "    # Menampilkan gambar\n",
        "    plot_images(x_test, x_test_noisy, decoded_imgs, f\"Noise Factor: {noise_factor}\")"
      ],
      "metadata": {
        "execution": {
          "iopub.status.busy": "2024-03-24T12:28:15.380288Z",
          "iopub.execute_input": "2024-03-24T12:28:15.380767Z",
          "iopub.status.idle": "2024-03-24T12:28:28.780055Z",
          "shell.execute_reply.started": "2024-03-24T12:28:15.380735Z",
          "shell.execute_reply": "2024-03-24T12:28:28.778626Z"
        },
        "trusted": true,
        "id": "B2mmEL_9G-KF"
      },
      "execution_count": null,
      "outputs": []
    },
    {
      "cell_type": "code",
      "source": [
        "# Menambahkan noise ke data uji untuk satu faktor noise\n",
        "noise_factor = 0.2  # Misalnya, gunakan satu faktor noise saja untuk memeriksa dimensi\n",
        "x_test_noisy = add_noise(x_test, noise_factor)\n",
        "\n",
        "# Memeriksa dimensi x_test_noisy\n",
        "print(\"Dimensi x_test_noisy:\", x_test_noisy.shape)"
      ],
      "metadata": {
        "execution": {
          "iopub.status.busy": "2024-03-24T13:51:58.411293Z",
          "iopub.execute_input": "2024-03-24T13:51:58.412184Z",
          "iopub.status.idle": "2024-03-24T13:51:58.439972Z",
          "shell.execute_reply.started": "2024-03-24T13:51:58.412137Z",
          "shell.execute_reply": "2024-03-24T13:51:58.439045Z"
        },
        "trusted": true,
        "id": "NR2x3RzcG-KF"
      },
      "execution_count": null,
      "outputs": []
    },
    {
      "cell_type": "code",
      "source": [
        "# Menampilkan ringkasan model autoencoder\n",
        "print(\"Ringkasan model autoencoder:\")\n",
        "autoencoder.summary()"
      ],
      "metadata": {
        "execution": {
          "iopub.status.busy": "2024-03-24T13:52:06.683659Z",
          "iopub.execute_input": "2024-03-24T13:52:06.684082Z",
          "iopub.status.idle": "2024-03-24T13:52:06.717119Z",
          "shell.execute_reply.started": "2024-03-24T13:52:06.684048Z",
          "shell.execute_reply": "2024-03-24T13:52:06.716242Z"
        },
        "trusted": true,
        "id": "Dt34naySG-KG"
      },
      "execution_count": null,
      "outputs": []
    },
    {
      "cell_type": "code",
      "source": [
        "import numpy as np\n",
        "import tensorflow as tf\n",
        "from skimage.metrics import peak_signal_noise_ratio\n",
        "\n",
        "# Fungsi untuk menghitung MSE\n",
        "def calculate_mse(y_true, y_pred):\n",
        "    return np.mean(np.square(y_true - y_pred))\n",
        "\n",
        "# Fungsi untuk menghitung PSNR\n",
        "def calculate_psnr(y_true, y_pred):\n",
        "    y_true = tf.squeeze(y_true).numpy()  # Konversi ke NumPy array\n",
        "    y_pred = tf.squeeze(y_pred).numpy()  # Konversi ke NumPy array\n",
        "    return peak_signal_noise_ratio(y_true, y_pred)\n",
        "\n",
        "# Menghitung dan menampilkan MSE, MAE, dan PSNR untuk setiap noise factor\n",
        "for noise_factor in noise_factors:\n",
        "    # Menambahkan noise ke data uji\n",
        "    x_test_noisy = add_noise(x_test, noise_factor)\n",
        "\n",
        "    # Mendenoise data uji menggunakan model autoencoder\n",
        "    decoded_imgs = autoencoder.predict(x_test_noisy)\n",
        "\n",
        "    # Pengecekan dimensi sebelum menghitung MSE\n",
        "    if x_test.ndim == decoded_imgs.ndim:\n",
        "        mse = calculate_mse(x_test, decoded_imgs)\n",
        "    else:\n",
        "        print(\"Dimensi dari x_test dan decoded_imgs tidak cocok untuk menghitung MSE.\")\n",
        "\n",
        "    # Menghitung PSNR\n",
        "    psnr = calculate_psnr(x_test, decoded_imgs)\n",
        "\n",
        "    # Menampilkan hasil\n",
        "    print(f\"Noise Factor: {noise_factor}\")\n",
        "    if 'mse' in locals():\n",
        "        print(f\"MSE: {mse}\")\n",
        "    else:\n",
        "        print(\"MSE tidak dapat dihitung.\")\n",
        "    print(f\"PSNR: {psnr}\")\n",
        "    print()\n"
      ],
      "metadata": {
        "execution": {
          "iopub.status.busy": "2024-03-24T12:29:04.171301Z",
          "iopub.execute_input": "2024-03-24T12:29:04.171714Z",
          "iopub.status.idle": "2024-03-24T12:29:12.808127Z",
          "shell.execute_reply.started": "2024-03-24T12:29:04.171684Z",
          "shell.execute_reply": "2024-03-24T12:29:12.806855Z"
        },
        "trusted": true,
        "id": "fhFsNziBG-KG"
      },
      "execution_count": null,
      "outputs": []
    },
    {
      "cell_type": "code",
      "source": [
        "import numpy as np\n",
        "import tensorflow as tf\n",
        "\n",
        "# Function to calculate Mean Squared Error (MSE)\n",
        "def calculate_mse(original, denoised):\n",
        "    mse = np.mean(np.square(original - denoised))\n",
        "    return mse\n",
        "\n",
        "# Function to calculate Mean Absolute Error (MAE)\n",
        "def calculate_mae(original, denoised):\n",
        "    mae = np.mean(np.abs(original - denoised))\n",
        "    return mae\n",
        "\n",
        "# Function to calculate Peak Signal-to-Noise Ratio (PSNR)\n",
        "def calculate_psnr(original, denoised):\n",
        "    mse = calculate_mse(original, denoised)\n",
        "    max_pixel = 1.0\n",
        "    psnr = 20 * np.log10(max_pixel / np.sqrt(mse))\n",
        "    return psnr\n",
        "\n",
        "# Calculate and display MSE, MAE, and PSNR for each noise factor\n",
        "for noise_factor in noise_factors:\n",
        "    # Add noise to test data\n",
        "    x_test_noisy = add_noise(x_test, noise_factor)\n",
        "\n",
        "    # Denoise test data using autoencoder model\n",
        "    decoded_imgs = autoencoder.predict(x_test_noisy)\n",
        "\n",
        "    # Check dimensions before calculating MSE\n",
        "    assert x_test.shape == decoded_imgs.shape, \"Dimensions mismatch between original and denoised images\"\n",
        "\n",
        "    # Calculate MSE\n",
        "    mse = calculate_mse(x_test, decoded_imgs)\n",
        "\n",
        "    # Calculate MAE\n",
        "    mae = calculate_mae(x_test, decoded_imgs)\n",
        "\n",
        "    # Calculate PSNR\n",
        "    psnr = calculate_psnr(x_test, decoded_imgs)\n",
        "\n",
        "    # Display results\n",
        "    print(f\"Noise Factor: {noise_factor}\")\n",
        "    print(f\"MSE: {mse}\")\n",
        "    print(f\"MAE: {mae}\")\n",
        "    print(f\"PSNR: {psnr}\")\n",
        "    print(\"-\" * 30)"
      ],
      "metadata": {
        "execution": {
          "iopub.status.busy": "2024-03-24T13:19:10.796392Z",
          "iopub.execute_input": "2024-03-24T13:19:10.796892Z",
          "iopub.status.idle": "2024-03-24T13:19:10.963962Z",
          "shell.execute_reply.started": "2024-03-24T13:19:10.796857Z",
          "shell.execute_reply": "2024-03-24T13:19:10.962413Z"
        },
        "trusted": true,
        "id": "fazmZhk6G-KG"
      },
      "execution_count": null,
      "outputs": []
    },
    {
      "cell_type": "code",
      "source": [
        "import numpy as np\n",
        "import tensorflow as tf\n",
        "from skimage.metrics import peak_signal_noise_ratio\n",
        "from sklearn.metrics import mean_squared_error, mean_absolute_error\n",
        "\n",
        "# Fungsi untuk menambahkan noise ke data uji\n",
        "def add_noise(data, noise_factor):\n",
        "    noisy_data = data + noise_factor * np.random.normal(loc=0.0, scale=1.0, size=data.shape)\n",
        "    noisy_data = np.clip(noisy_data, 0., 1.) # Memastikan nilai berada dalam rentang [0, 1]\n",
        "    return noisy_data\n",
        "\n",
        "# Fungsi untuk menghitung MSE\n",
        "def calculate_mse(y_true, y_pred):\n",
        "    return np.mean(np.square(y_true - y_pred))\n",
        "\n",
        "# Fungsi untuk menghitung MAE\n",
        "def calculate_mae(y_true, y_pred):\n",
        "    return mean_absolute_error(y_true.flatten(), y_pred.flatten())\n",
        "\n",
        "# Fungsi untuk menghitung PSNR\n",
        "def calculate_psnr(y_true, y_pred):\n",
        "    y_true = tf.squeeze(y_true).numpy() # Konversi ke NumPy array\n",
        "    y_pred = tf.squeeze(y_pred).numpy() # Konversi ke NumPy array\n",
        "    return peak_signal_noise_ratio(y_true, y_pred)\n",
        "\n",
        "# Noise factors yang ingin diuji\n",
        "noise_factors = [0.1, 0.2, 0.3, 0.4, 0.5]\n",
        "\n",
        "# Menghitung dan menampilkan MSE, MAE, dan PSNR untuk setiap noise factor\n",
        "for noise_factor in noise_factors:\n",
        "    # Menambahkan noise ke data uji\n",
        "    x_test_noisy = add_noise(x_test, noise_factor)\n",
        "\n",
        "    # Mendenoise data uji menggunakan model autoencoder\n",
        "    decoded_imgs = autoencoder.predict(x_test_noisy)\n",
        "\n",
        "    # Pengecekan dimensi sebelum menghitung MSE\n",
        "    if x_test.ndim == decoded_imgs.ndim:\n",
        "        mse = calculate_mse(x_test, decoded_imgs)\n",
        "        mae = calculate_mae(x_test, decoded_imgs)\n",
        "    else:\n",
        "        print(\"Dimensi dari x_test dan decoded_imgs tidak cocok untuk menghitung MSE.\")\n",
        "\n",
        "    # Menghitung PSNR\n",
        "    psnr = calculate_psnr(x_test, decoded_imgs)\n",
        "\n",
        "    # Menampilkan hasil\n",
        "    print(f\"Noise Factor: {noise_factor}\")\n",
        "    if 'mse' in locals():\n",
        "        print(f\"MSE: {mse}\")\n",
        "        print(f\"MAE: {mae}\")\n",
        "    else:\n",
        "        print(\"MSE tidak dapat dihitung.\")\n",
        "    print(f\"PSNR: {psnr}\")\n",
        "    print()"
      ],
      "metadata": {
        "execution": {
          "iopub.status.busy": "2024-03-24T13:06:08.910468Z",
          "iopub.execute_input": "2024-03-24T13:06:08.910941Z",
          "iopub.status.idle": "2024-03-24T13:06:09.071595Z",
          "shell.execute_reply.started": "2024-03-24T13:06:08.910910Z",
          "shell.execute_reply": "2024-03-24T13:06:09.070156Z"
        },
        "trusted": true,
        "id": "VAMSSVQeG-KG"
      },
      "execution_count": null,
      "outputs": []
    },
    {
      "cell_type": "code",
      "source": [
        "from sklearn.metrics import mean_squared_error\n",
        "\n",
        "# Menghitung MSE untuk setiap pasang gambar\n",
        "mse_values = []\n",
        "for i in range(len(x_test_noisy)):\n",
        "    # Mengonversi EagerTensor menjadi array NumPy dan meratakan gambar\n",
        "    noisy_image_flat = x_test_noisy[i].numpy().flatten()\n",
        "    reconstructed_image_flat = reconstructed_noisy_images[i].flatten()\n",
        "    # Menghitung MSE\n",
        "    mse = mean_squared_error(noisy_image_flat, reconstructed_image_flat)\n",
        "    mse_values.append(mse)\n",
        "\n",
        "# Menghitung rata-rata MSE\n",
        "avg_mse = sum(mse_values) / len(mse_values)\n",
        "print(\"Average MSE:\", avg_mse)"
      ],
      "metadata": {
        "execution": {
          "iopub.status.busy": "2024-03-24T13:09:40.870960Z",
          "iopub.execute_input": "2024-03-24T13:09:40.871389Z",
          "iopub.status.idle": "2024-03-24T13:09:40.912073Z",
          "shell.execute_reply.started": "2024-03-24T13:09:40.871353Z",
          "shell.execute_reply": "2024-03-24T13:09:40.910843Z"
        },
        "trusted": true,
        "id": "t0DiRp8wG-KH"
      },
      "execution_count": null,
      "outputs": []
    },
    {
      "cell_type": "code",
      "source": [
        "import numpy as np\n",
        "import tensorflow as tf\n",
        "from skimage.metrics import peak_signal_noise_ratio\n",
        "\n",
        "# Fungsi untuk menghitung MSE\n",
        "def calculate_mse(y_true, y_pred):\n",
        "    return np.mean(np.square(y_true - y_pred))\n",
        "\n",
        "# Fungsi untuk menghitung PSNR\n",
        "def calculate_psnr(y_true, y_pred):\n",
        "    y_true = tf.squeeze(y_true).numpy()  # Konversi ke NumPy array\n",
        "    y_pred = tf.squeeze(y_pred).numpy()  # Konversi ke NumPy array\n",
        "    return peak_signal_noise_ratio(y_true, y_pred)\n",
        "\n",
        "# Menghitung dan menampilkan MSE, MAE, dan PSNR untuk setiap noise factor\n",
        "for noise_factor in noise_factors:\n",
        "    # Menambahkan noise ke data uji\n",
        "    x_test_noisy = add_noise(x_test, noise_factor)\n",
        "\n",
        "    # Mendenoise data uji menggunakan model autoencoder\n",
        "    decoded_imgs = autoencoder.predict(x_test_noisy)\n",
        "\n",
        "    # Pengecekan dimensi sebelum menghitung MSE\n",
        "    if x_test.ndim == decoded_imgs.ndim:\n",
        "        mse = calculate_mse(x_test, decoded_imgs)\n",
        "    else:\n",
        "        print(\"Dimensi dari x_test dan decoded_imgs tidak cocok untuk menghitung MSE.\")\n",
        "\n",
        "    # Menghitung PSNR\n",
        "    psnr = calculate_psnr(x_test, decoded_imgs)\n",
        "\n",
        "    # Menampilkan hasil\n",
        "    print(f\"Noise Factor: {noise_factor}\")\n",
        "    if 'mse' in locals():\n",
        "        print(f\"MSE: {mse}\")\n",
        "    else:\n",
        "        print(\"MSE tidak dapat dihitung.\")\n",
        "    print(f\"PSNR: {psnr}\")\n",
        "    print()\n"
      ],
      "metadata": {
        "execution": {
          "iopub.status.busy": "2024-03-24T11:58:27.815247Z",
          "iopub.status.idle": "2024-03-24T11:58:27.815901Z",
          "shell.execute_reply.started": "2024-03-24T11:58:27.815698Z",
          "shell.execute_reply": "2024-03-24T11:58:27.815718Z"
        },
        "trusted": true,
        "id": "ZLnV4vV9G-KH"
      },
      "execution_count": null,
      "outputs": []
    },
    {
      "cell_type": "code",
      "source": [
        "import numpy as np\n",
        "import tensorflow as tf\n",
        "from skimage.metrics import peak_signal_noise_ratio\n",
        "\n",
        "# Fungsi untuk menghitung MSE\n",
        "def calculate_mse(y_true, y_pred):\n",
        "    return np.mean(np.square(y_true - y_pred))\n",
        "\n",
        "# Fungsi untuk menghitung PSNR\n",
        "def calculate_psnr(y_true, y_pred):\n",
        "    y_true = tf.squeeze(y_true).numpy()  # Konversi ke NumPy array\n",
        "    y_pred = tf.squeeze(y_pred).numpy()  # Konversi ke NumPy array\n",
        "    return peak_signal_noise_ratio(y_true, y_pred)\n",
        "\n",
        "# Menghitung dan menampilkan MSE, MAE, dan PSNR untuk setiap noise factor\n",
        "for noise_factor in noise_factors:\n",
        "    # Menambahkan noise ke data uji\n",
        "    x_test_noisy = add_noise(x_test, noise_factor)\n",
        "\n",
        "    # Mendenoise data uji menggunakan model autoencoder\n",
        "    decoded_imgs = autoencoder.predict(x_test_noisy)\n",
        "\n",
        "    # Pengecekan dimensi sebelum menghitung MSE\n",
        "    if x_test.ndim == decoded_imgs.ndim:\n",
        "        mse = calculate_mse(x_test, decoded_imgs)\n",
        "    else:\n",
        "        print(\"Dimensi dari x_test dan decoded_imgs tidak cocok untuk menghitung MSE.\")\n",
        "\n",
        "    # Menghitung PSNR\n",
        "    psnr = calculate_psnr(x_test, decoded_imgs)\n",
        "\n",
        "    # Menampilkan hasil\n",
        "    print(f\"Noise Factor: {noise_factor}\")\n",
        "    if 'mse' in locals():\n",
        "        print(f\"MSE: {mse}\"\n",
        "        print(f\"MAE: {mae}\")\n",
        "        print(f\"PSNR: {psnr}\")\n",
        "        print()\n"
      ],
      "metadata": {
        "execution": {
          "iopub.status.busy": "2024-03-24T11:58:27.817201Z",
          "iopub.status.idle": "2024-03-24T11:58:27.817620Z",
          "shell.execute_reply.started": "2024-03-24T11:58:27.817431Z",
          "shell.execute_reply": "2024-03-24T11:58:27.817449Z"
        },
        "trusted": true,
        "id": "Gd9KGZ4bG-KH"
      },
      "execution_count": null,
      "outputs": []
    },
    {
      "cell_type": "code",
      "source": [
        "import numpy as np\n",
        "import tensorflow as tf\n",
        "from skimage.metrics import peak_signal_noise_ratio\n",
        "from sklearn.metrics import mean_squared_error, mean_absolute_error\n",
        "\n",
        "# Fungsi untuk menghitung PSNR\n",
        "def calculate_psnr(y_true, y_pred):\n",
        "    y_true = tf.squeeze(y_true).numpy()  # Konversi ke NumPy array\n",
        "    y_pred = tf.squeeze(y_pred).numpy()  # Konversi ke NumPy array\n",
        "    return peak_signal_noise_ratio(y_true, y_pred)\n",
        "\n",
        "# Fungsi untuk Menghitung MSE\n",
        "def calculate_mse(y_true, y_pred):\n",
        "    return mean_squared_error(y_true, y_pred)\n",
        "\n",
        "# Fungsi untuk Menghitung MAE\n",
        "def calculate_mae(y_true, y_pred):\n",
        "    return mean_absolute_error(y_true, y_pred)\n",
        "\n",
        "# Noise factors yang ingin diuji\n",
        "noise_factors = [0.1, 0.2, 0.3, 0.4, 0.5]\n",
        "\n",
        "# Mendenoise data uji menggunakan model autoencoder\n",
        "def denoise_data(autoencoder, x_test_noisy):\n",
        "    return autoencoder.predict(x_test_noisy)\n",
        "\n",
        "# Data uji (contoh)\n",
        "x_test = np.random.rand(1718, 100, 3)  # Contoh data uji\n",
        "x_test_noisy = add_noise(x_test, noise_factor)  # Contoh data uji yang bising\n",
        "\n",
        "# Menghitung dan menampilkan MSE, MAE, dan PSNR untuk setiap noise factor\n",
        "for noise_factor in noise_factors:\n",
        "    # Menambahkan noise ke data uji\n",
        "    x_test_noisy = add_noise(x_test, noise_factor)\n",
        "\n",
        "    # Mendenoise data uji menggunakan model autoencoder\n",
        "    decoded_imgs = denoise_data(autoencoder, x_test_noisy)\n",
        "\n",
        "    # Menghitung MSE, MAE, dan PSNR\n",
        "    mse = calculate_mse(x_test, decoded_imgs)\n",
        "    mae = calculate_mae(x_test, decoded_imgs)\n",
        "    psnr = calculate_psnr(x_test, decoded_imgs)\n",
        "\n",
        "    # Menampilkan hasil\n",
        "    print(f\"Noise Factor: {noise_factor}\")\n",
        "    print(f\"MSE: {mse}\")\n",
        "    print(f\"MAE: {mae}\")\n",
        "    print(f\"PSNR: {psnr}\")\n",
        "    print()\n"
      ],
      "metadata": {
        "execution": {
          "iopub.status.busy": "2024-03-24T13:09:02.148829Z",
          "iopub.execute_input": "2024-03-24T13:09:02.149549Z",
          "iopub.status.idle": "2024-03-24T13:09:02.378511Z",
          "shell.execute_reply.started": "2024-03-24T13:09:02.149512Z",
          "shell.execute_reply": "2024-03-24T13:09:02.376811Z"
        },
        "trusted": true,
        "id": "16g9EeVYG-KH"
      },
      "execution_count": null,
      "outputs": []
    },
    {
      "cell_type": "code",
      "source": [
        "import matplotlib.pyplot as plt\n",
        "\n",
        "# Fungsi untuk menampilkan gambar\n",
        "def plot_images(original, noisy, denoised, title):\n",
        "    plt.figure(figsize=(10, 5))\n",
        "    for i in range(5):\n",
        "        # Menampilkan gambar asli + noise\n",
        "        ax = plt.subplot(3, 5, i + 1)\n",
        "        plt.imshow(tf.squeeze(original[i]), cmap='gray')\n",
        "        plt.title(\"Original + Noise\")\n",
        "        plt.axis(\"off\")\n",
        "\n",
        "        # Menampilkan gambar rekonstruksi\n",
        "        ax = plt.subplot(3, 5, i + 6)\n",
        "        plt.imshow(tf.squeeze(noisy[i]), cmap='gray')\n",
        "        plt.title(\"Noisy Image\")\n",
        "        plt.axis(\"off\")\n",
        "\n",
        "        # Menampilkan gambar asli\n",
        "        ax = plt.subplot(3, 5, i + 11)\n",
        "        plt.imshow(tf.squeeze(denoised[i]), cmap='gray')\n",
        "        plt.title(\"Reconstructed\")\n",
        "        plt.axis(\"off\")\n",
        "\n",
        "    plt.suptitle(title)\n",
        "    plt.show()\n",
        "\n",
        "# Noise factors yang akan diuji\n",
        "noise_factors = [0.1, 0.2, 0.3, 0.4, 0.5]\n",
        "\n",
        "# Menampilkan gambar untuk setiap noise factor\n",
        "for noise_factor in noise_factors:\n",
        "    # Menambahkan noise ke data uji\n",
        "    x_test_noisy = add_noise(x_test, noise_factor)\n",
        "\n",
        "    # Mendenoise data uji menggunakan model autoencoder\n",
        "    decoded_imgs = autoencoder.predict(x_test_noisy)\n",
        "\n",
        "    # Menampilkan gambar\n",
        "    plot_images(x_test, x_test_noisy, decoded_imgs, f\"Noise Factor: {noise_factor}\")"
      ],
      "metadata": {
        "execution": {
          "iopub.status.busy": "2024-03-24T11:58:27.820743Z",
          "iopub.status.idle": "2024-03-24T11:58:27.821116Z",
          "shell.execute_reply.started": "2024-03-24T11:58:27.820937Z",
          "shell.execute_reply": "2024-03-24T11:58:27.820953Z"
        },
        "trusted": true,
        "id": "xIa_vTmuG-KI"
      },
      "execution_count": null,
      "outputs": []
    }
  ]
}